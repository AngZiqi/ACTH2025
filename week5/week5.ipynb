{
  "nbformat": 4,
  "nbformat_minor": 0,
  "metadata": {
    "colab": {
      "provenance": [],
      "include_colab_link": true
    },
    "kernelspec": {
      "name": "python3",
      "display_name": "Python 3"
    },
    "language_info": {
      "name": "python"
    }
  },
  "cells": [
    {
      "cell_type": "markdown",
      "metadata": {
        "id": "view-in-github",
        "colab_type": "text"
      },
      "source": [
        "<a href=\"https://colab.research.google.com/github/AngZiqi/ACTH2025/blob/main/week5/week5.ipynb\" target=\"_parent\"><img src=\"https://colab.research.google.com/assets/colab-badge.svg\" alt=\"Open In Colab\"/></a>"
      ]
    },
    {
      "cell_type": "markdown",
      "source": [
        "# From two weeks ago..."
      ],
      "metadata": {
        "id": "a-ANf_FWgWQ2"
      }
    },
    {
      "cell_type": "code",
      "source": [
        "class CulturalObject:\n",
        "    location = \"Unknown\"  # Class attribute shared across all instances\n",
        "\n",
        "    def __init__(self, title, creator, year, medium, is_authentic=True,\n",
        "                 condition_score=10):\n",
        "        if not isinstance(condition_score, int): # condition\n",
        "            raise TypeError(\"condition_score must be an integer.\") # ERROR1\n",
        "        if not (0 <= condition_score <= 10):\n",
        "            raise ValueError(\"condition_score must be between 0 and 10.\") # ERROR2\n",
        "\n",
        "        self.title = title\n",
        "        self.creator = creator\n",
        "        self.year = year\n",
        "        self.medium = medium\n",
        "        self.is_authentic = is_authentic\n",
        "        self.condition_score = condition_score\n",
        "\n",
        "    def relocate(self, new_location):\n",
        "        CulturalObject.location = new_location\n",
        "\n",
        "    def describe_basic(self):\n",
        "        authenticity = \"authentic\" if self.is_authentic else \"replica\"\n",
        "        return f\"'{self.title}' by {self.creator}, {authenticity}, {self.year}, {self.medium}, condition: {self.condition_score}/10.\"\n",
        "\n",
        "    def citation(self, location):\n",
        "        return f\"{self.creator}. ({self.year}). {self.title}. {self.medium}. {location}.\"\n",
        "\n"
      ],
      "metadata": {
        "id": "9igVVjXzhlJF"
      },
      "execution_count": null,
      "outputs": []
    },
    {
      "cell_type": "code",
      "source": [
        "sample_object = CulturalObject(\"Sample Title\", \"Sample Creator\", 1999, \"Sample Medium\")"
      ],
      "metadata": {
        "id": "qE5tRSJNh7Ej"
      },
      "execution_count": null,
      "outputs": []
    },
    {
      "cell_type": "code",
      "source": [
        "print(sample_object)"
      ],
      "metadata": {
        "id": "KtKK_rGRiAHT"
      },
      "execution_count": null,
      "outputs": []
    },
    {
      "cell_type": "markdown",
      "source": [
        "## Printing an object\n",
        "\n",
        "If not specified, the printing of an object will look like what you see above. If you want to give a specific printing style to an object, you need to add the `__repr__` method to it.\n",
        "\n",
        "`__repr__` is a special method in Python that defines how an object is represented when you print it (or inspect it in the console). It’s short for “representation”, and it's meant to return a string that unambiguously describes the object, ideally one that could be used to recreate it."
      ],
      "metadata": {
        "id": "iypBfCgtj0aI"
      }
    },
    {
      "cell_type": "code",
      "source": [
        "class CulturalObject:\n",
        "    location = \"Unknown\"  # Class attribute shared across all instances\n",
        "\n",
        "    def __init__(self, title, creator, year, medium, is_authentic=True,\n",
        "                 condition_score=10):\n",
        "        if not isinstance(condition_score, int): # condition\n",
        "            raise TypeError(\"condition_score must be an integer.\") # ERROR1\n",
        "        if not (0 <= condition_score <= 10):\n",
        "            raise ValueError(\"condition_score must be between 0 and 10.\") # ERROR2\n",
        "\n",
        "        self.title = title\n",
        "        self.creator = creator\n",
        "        self.year = year\n",
        "        self.medium = medium\n",
        "        self.is_authentic = is_authentic\n",
        "        self.condition_score = condition_score\n",
        "\n",
        "    def relocate(self, new_location):\n",
        "        CulturalObject.location = new_location\n",
        "\n",
        "    def describe_basic(self):\n",
        "        authenticity = \"authentic\" if self.is_authentic else \"replica\"\n",
        "        return f\"'{self.title}' by {self.creator}, {authenticity}, {self.year}, {self.medium}, condition: {self.condition_score}/10.\"\n",
        "\n",
        "    def citation(self, location):\n",
        "        return f\"{self.creator}. ({self.year}). {self.title}. {self.medium}. {location}.\"\n",
        "    #REPRESENTATION; IDEALLY, ONE COULD RECREATE THE OBJECT BY COPYING AND\n",
        "    #PASTING THIS CONTENT\n",
        "    def __repr__(self):\n",
        "        return f\"CulturalObject('{self.title}', '{self.creator}', {self.year}, '{self.medium}', {self.is_authentic}, {self.condition_score})\""
      ],
      "metadata": {
        "id": "DDGIGlXRjoxv"
      },
      "execution_count": null,
      "outputs": []
    },
    {
      "cell_type": "code",
      "source": [
        "sample_object = CulturalObject(\"Sample Title\", \"Sample Creator\", 1999, \"Sample Medium\")\n",
        "print(sample_object)"
      ],
      "metadata": {
        "id": "_bFTlmMBjyk4"
      },
      "execution_count": null,
      "outputs": []
    },
    {
      "cell_type": "code",
      "execution_count": null,
      "metadata": {
        "id": "lh4UYnnGn0XB"
      },
      "outputs": [],
      "source": []
    },
    {
      "cell_type": "markdown",
      "source": [
        "# Graph Databases and Linked Data part 1\n",
        "\n",
        "Previously, we have seen how to handle tabular data via pandas and dataframe.\n",
        "\n",
        "Graph data is different from tabular data, it is usually expressed in triples of **subject-predicate-object**\n",
        "\n",
        "Linked (open) data is a specific set of principles to publish data online. It follows RDF (Resource description framework). In RDF, triples are expressed with subject-predicate-object structure. Additionally, subject and predicates (and sometimes objects) are expressed with URIs (Uniform resource identifier) -> basically URLs (uniform resource locator) to identify specific entities in the web.\n",
        "\n",
        "Graphs databases that follow linked data principles are also called knowledge graphs.\n",
        "\n",
        "\n",
        "\n",
        "The properties expressed in knowledge graphs (the relationships that link a subject with an object), are usually taken from Ontologies, which are specific shared vocabularies to express information in Linked Data. Ontologies are essential to grant interoperability between different knowledge graphs published online. They are (in most cases) also used to specify the **type** of entities in a knowledge graph. All the types, also called classes, and properties of an ontology are assigned URIs.\n",
        "\n",
        "A URI is typically composed by a Namespace (i.e., https://w3id.org/example/) plus the specific sequence of characters to identify an entity (i.e., bruno). The URI for Bruno according to the Namespace of example could be https://w3id.org/example/bruno . Because namespaces can be repeated multiple types in a knowledge graphs, they are usually abbreviated via prefixes. For instance, you could use the \"ex:\" prefix to abbreviate https://w3id.org/example/. So, Bruno can be expressed by writing ex:bruno .\n",
        "\n",
        "There are different ways to formalize knowledge graphs (https://www.w3.org/wiki/RdfSyntax), they can be formalized in the Turtle Language, Ntriples, RDF/XML...Let's take Turtle for example.\n",
        "\n",
        "The FOAF (friend of a friend) ontology (http://xmlns.com/foaf/spec/) has the Namespace \"http://xmlns.com/foaf/0.1/\". In this ontology, there is the property foaf:knows, which is used to connect two entities of the class foaf:Person. Therefore I can say ex:bruno foaf:knows ex:valentina. In turtle, I would express this with this syntax:\n",
        "\n",
        "\n",
        "\n",
        "```turtle\n",
        "@prefix ex: <https://w3id.org/example/> .\n",
        "@prefix foaf: <http://xmlns.com/foaf/0.1/> .\n",
        "\n",
        "ex:bruno foaf:knows ex:valentina .\n",
        "```\n",
        "![image.png](data:image/png;base64,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)\n",
        "\n",
        "Knowledge graph, as objects (**only**), can also have information not expressed in URIs, but in literals. A literal, compared to a URI, cannot be the new subject of a new triple. For instance, I can use the foaf property foaf:age to say that Valentina is 30 years old.\n",
        "\n",
        "![newexample2.PNG](data:image/png;base64,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)\n",
        "\n",
        "```turtle\n",
        "@prefix ex: <https://w3id.org/example/> .\n",
        "@prefix foaf: <http://xmlns.com/foaf/0.1/> .\n",
        "@prefix xsd: <http://www.w3.org/2001/XMLSchema/> .\n",
        "\n",
        "ex:bruno foaf:knows ex:valentina .\n",
        "ex:valentina foaf:age \"30\"^^xsd:integer .\n",
        "```\n",
        "\n",
        "While I can reuse the object of the triple ex:valentina as the subject of a new triple, I can't use \"30\" as the subject of a new triple. Literals are meant to give data about a specific entity, but are not meant to represent that data as a URI."
      ],
      "metadata": {
        "id": "jBy3A5VCn52A"
      }
    },
    {
      "cell_type": "markdown",
      "source": [
        "In CH you might want to say:\n",
        "\n",
        "\"This artifact was created by that artist\"\n",
        "\n",
        "\"This artifact is located at this museum\"\n",
        "\n",
        "\"This artifact has this title\"\n",
        "\n",
        "RDF allows you to express these as structured facts with machine-readable semantics."
      ],
      "metadata": {
        "id": "0TZ-_wv7nbJ4"
      }
    },
    {
      "cell_type": "markdown",
      "source": [
        "## CH Ontologies: CIDOC CRM and Dublin Core\n",
        "\n",
        "To model data in a semantically meaningful way, we rely on **shared vocabularies**:\n",
        "\n",
        "### Dublin Core (`dc:`)\n",
        "Dublin Core offers generic metadata properties like:\n",
        "- `dc:title`\n",
        "- `dc:creator`\n",
        "- `dc:date`\n",
        "\n",
        "It’s lightweight and widely used across disciplines.\n",
        "\n",
        "### CIDOC CRM (`crm:`)\n",
        "CIDOC CRM is a formal ontology for cultural heritage. It describes:\n",
        "- Physical objects (e.g. `E22_Man-Made_Object`)\n",
        "- Persons and groups (`E21_Person`)\n",
        "- Places (`E53_Place`)\n",
        "- Relationships like `P55_has_current_location`, `P14_carried_out_by`, etc.\n",
        "\n",
        "We will see these today in the examples\n"
      ],
      "metadata": {
        "id": "RV9cs998phR5"
      }
    },
    {
      "cell_type": "markdown",
      "source": [
        "# How to read and create RDF files in python\n",
        "\n",
        "We can use rdflib, a library created to handle RDF data. Rdflib docs: https://rdflib.readthedocs.io/en/stable/"
      ],
      "metadata": {
        "id": "5eJCyLihmewc"
      }
    },
    {
      "cell_type": "code",
      "source": [
        "# Setup: install rdflib\n",
        "\n",
        "!pip install rdflib"
      ],
      "metadata": {
        "id": "GudE_1emgQ9a"
      },
      "execution_count": null,
      "outputs": []
    },
    {
      "cell_type": "markdown",
      "source": [
        "### rdflib.Graph\n",
        "\n",
        "A `Graph()` is the core data structure in RDFLib. It's\n",
        "\n",
        "It holds all the RDF triples.\n",
        "\n",
        "To use it you need to call its constructor method (does it ring a bell?)"
      ],
      "metadata": {
        "id": "0wD4DiOeqqpb"
      }
    },
    {
      "cell_type": "code",
      "source": [
        "from rdflib import Graph\n",
        "g = Graph()"
      ],
      "metadata": {
        "id": "qPRZKxX8npl1"
      },
      "execution_count": null,
      "outputs": []
    },
    {
      "cell_type": "code",
      "source": [
        "txxx"
      ],
      "metadata": {
        "id": "0LgNSg2rq4QN",
        "outputId": "4f3e240c-7d08-4460-baa2-b6552449ad9e",
        "colab": {
          "base_uri": "https://localhost:8080/",
          "height": 144
        }
      },
      "execution_count": 1,
      "outputs": [
        {
          "output_type": "error",
          "ename": "NameError",
          "evalue": "name 'txxx' is not defined",
          "traceback": [
            "\u001b[0;31m---------------------------------------------------------------------------\u001b[0m",
            "\u001b[0;31mNameError\u001b[0m                                 Traceback (most recent call last)",
            "\u001b[0;32m<ipython-input-1-fae2aec64fb2>\u001b[0m in \u001b[0;36m<cell line: 0>\u001b[0;34m()\u001b[0m\n\u001b[0;32m----> 1\u001b[0;31m \u001b[0mtxxx\u001b[0m\u001b[0;34m\u001b[0m\u001b[0;34m\u001b[0m\u001b[0m\n\u001b[0m",
            "\u001b[0;31mNameError\u001b[0m: name 'txxx' is not defined"
          ]
        }
      ]
    },
    {
      "cell_type": "markdown",
      "source": [
        "You can:\n",
        "\n",
        "`.parse()` → Load RDF data (from string, file, or URL)\n",
        "\n",
        "`.add()` / `.remove()` → Add or delete triples\n",
        "\n",
        "`.triples()` → Iterate over triples\n",
        "\n",
        "`.subjects()`, `.predicates()`, `.objects()` → Iterate or filter using predicates, subjects or objects\n",
        "\n",
        "`.value()` → Get a single object from a known subject/predicate pair\n",
        "\n",
        "`.serialize()` → Export RDF"
      ],
      "metadata": {
        "id": "JQRy6nNvrIoz"
      }
    },
    {
      "cell_type": "markdown",
      "source": [
        "### `graph.parse(data=..., format=...)`\n",
        "\n",
        "Loads RDF into the graph. You can use:\n",
        "- `data=` to provide a Turtle/N-Triples string\n",
        "- `location=` to load from file or URL\n",
        "- `format=` must match the syntax: `turtle`, `xml`, `n3`, `nt`, `json-ld`"
      ],
      "metadata": {
        "id": "54tCLP2braK9"
      }
    },
    {
      "cell_type": "code",
      "source": [
        "turtle_data = \"\"\"\n",
        "@prefix ex: <http://w3id.org/example/> .\n",
        "@prefix crm: <http://www.cidoc-crm.org/cidoc-crm/> .\n",
        "@prefix dc: <http://purl.org/dc/elements/1.1/> .\n",
        "@prefix rdfs: <http://www.w3.org/2000/01/rdf-schema#> .\n",
        "\n",
        "ex:artifact001 a crm:E22_Man-Made_Object ;\n",
        "    dc:title \"Roman coin\" ;\n",
        "    dc:creator ex:artist001 ;\n",
        "    crm:P55_has_current_location ex:museum001 .\n",
        "\n",
        "ex:artist001 a crm:E21_Person ;\n",
        "    rdfs:label \"Unknown Roman artist\" .\n",
        "\n",
        "ex:museum001 a crm:E53_Place ;\n",
        "    rdfs:label \"Museum of Ancient History\" .\n",
        "\"\"\"\n",
        "\n",
        "g = Graph()\n",
        "g.parse(data=turtle_data, format=\"turtle\")\n",
        "print(f\"Loaded graph with {len(g)} triples.\")\n"
      ],
      "metadata": {
        "id": "sOnmZeGjrZlO"
      },
      "execution_count": null,
      "outputs": []
    },
    {
      "cell_type": "code",
      "source": [
        "# or\n",
        "\n",
        "g2 = Graph()\n",
        "g.parse(\"example_t.ttl\", format=\"ttl\") #if you upload the file example_t.ttl in the notebook"
      ],
      "metadata": {
        "id": "6P9B_4YOs1Kg"
      },
      "execution_count": null,
      "outputs": []
    },
    {
      "cell_type": "code",
      "source": [
        "# or\n",
        "\n",
        "g3 = Graph()\n",
        "\n",
        "g.parse(location=\"\", format=\"ttl\") # add the github link to the same file"
      ],
      "metadata": {
        "id": "ljxa_6FHtKdQ"
      },
      "execution_count": null,
      "outputs": []
    },
    {
      "cell_type": "markdown",
      "source": [
        "### Namespace(uri)\n",
        "\n",
        "`rdflib.namespace.Namespace` lets us shorten URIs for readability.\n",
        "\n",
        "We also **bind** prefixes so the graph knows how to serialize them. Some namespaces, for rdfs, foaf, rdf are already built in rdflib"
      ],
      "metadata": {
        "id": "YisJXJpjtimh"
      }
    },
    {
      "cell_type": "code",
      "source": [
        "from rdflib.namespace import RDF, RDFS\n",
        "from rdflib import Namespace\n",
        "\n",
        "CRM = Namespace(\"http://www.cidoc-crm.org/cidoc-crm/\") #creating a namespace object\n",
        "DC = Namespace(\"http://purl.org/dc/elements/1.1/\")\n",
        "EX = Namespace(\"http://w3id.org/example/\")\n",
        "\n",
        "g.bind(\"crm\", CRM) # binding it to the graph so when we serialize it, it will use\n",
        "#crm:something instead of the full namespace\n",
        "g.bind(\"dc\", DC)\n",
        "g.bind(\"ex\", EX)"
      ],
      "metadata": {
        "id": "LmmoNLJEtmAm"
      },
      "execution_count": null,
      "outputs": []
    },
    {
      "cell_type": "markdown",
      "source": [
        "### graph.triples((s, p, o))\n",
        "\n",
        "This lets us search all matching triples.\n",
        "- Use `None` as a wildcard for subject, predicate, or object.\n",
        "- Returns a generator of `(subject, predicate, object)` tuples."
      ],
      "metadata": {
        "id": "2MOZ_ZrgvmaL"
      }
    },
    {
      "cell_type": "code",
      "source": [
        "for s, p, o in g.triples((None, None, None)):\n",
        "    print(f\"{s} -- {p} --> {o}\")"
      ],
      "metadata": {
        "id": "SfYOuiTet1tB"
      },
      "execution_count": null,
      "outputs": []
    },
    {
      "cell_type": "markdown",
      "source": [
        "### graph.subjects(predicate=X, object=Y)\n",
        "Returns all subjects matching (s, X, Y)\n",
        "\n",
        "***\n",
        "\n",
        "### graph.predicates(subject=X, object=Y)\n",
        "Returns all predicates matching (X, p, Y)\n",
        "\n",
        "***\n",
        "\n",
        "### graph.objects(subject=X, predicate=Y)\n",
        "Returns all objects matching (X, Y, o)\n",
        "\n",
        "### Syntax for elements in .triples, .predicates, .objects, .subjects\n",
        "\n",
        "Inside the `.triples()` you can have either `None` or the specific URI. To call an entity for a URI with a specific namespace there are three ways.\n",
        "\n",
        "1. Use `namespace_variable.entity_name` for instance `DC.creator`\n",
        "2. Use `namespace_variable[\"entity_name\"]` for instance `DC[\"creator\"]`\n",
        "3. Use URIRef constructor method with the parameter of the full uri, for instance `URIRef(\"http://purl.org/dc/elements/1.1/creator\")`\n"
      ],
      "metadata": {
        "id": "gbNssHy0wFhG"
      }
    },
    {
      "cell_type": "code",
      "source": [
        "from rdflib import URIRef\n",
        "\n",
        "# Subjects that are man-made objects\n",
        "for s in g.subjects(RDF.type, CRM[\"E22_Man-Made_Object\"]): # we have to use this\n",
        "# other syntax because \"-\" is wrongly interpreted by python\n",
        "# so you can't write CRM.E22_Man-Made_Object\n",
        "    print(\"Artifact:\", s)\n",
        "\n",
        "# Objects that are creators\n",
        "for o in g.objects(None, DC.creator):\n",
        "    print(\"Creator:\", o)\n",
        "\n",
        "# Predicates used between artifact001 and museum001\n",
        "\n",
        "for p in g.predicates(EX.artifact001, URIRef(\"http://w3id.org/example/museum001\")):\n",
        "    print(\"Predicates between artifact001 and museum001: \", p)\n"
      ],
      "metadata": {
        "id": "keDEZYg7vsmO"
      },
      "execution_count": null,
      "outputs": []
    },
    {
      "cell_type": "markdown",
      "source": [
        "### Accessing a Single Value with .value()\n",
        "\n",
        "Returns the first object for (s, p)\n",
        "\n",
        "Useful if you just want a single value (e.g., a label)."
      ],
      "metadata": {
        "id": "P6mjOjrx0AOb"
      }
    },
    {
      "cell_type": "code",
      "source": [
        "label = g.value(subject=EX[\"artist001\"], predicate=RDFS.label)\n",
        "print(\"Label of artist001:\", label)\n",
        "\n",
        "### You could also do\n",
        "\n",
        "for label in g.objects(EX[\"artist001\"], RDFS.label):\n",
        "    print(\"Label of artist001:\", label)\n",
        "\n",
        "### or\n",
        "\n",
        "for s,p,o in g.triples((EX[\"artist001\"], RDFS.label, None)):\n",
        "    print(\"Label of artist001:\", o)"
      ],
      "metadata": {
        "id": "sD1dChCrwRWv"
      },
      "execution_count": null,
      "outputs": []
    },
    {
      "cell_type": "markdown",
      "source": [
        "### Adding Triples with .add()\n",
        "\n",
        "Adds a single RDF triple to the graph.\n",
        "\n",
        "- `s` and `o` are `URIRef` (for uris) or `Literal(...)` (for values)\n",
        "- `p` is a `URIRef`"
      ],
      "metadata": {
        "id": "fJW_WJ-50kXQ"
      }
    },
    {
      "cell_type": "code",
      "source": [
        "from rdflib import Literal\n",
        "\n",
        "artifact2 = EX[\"artifact002\"]\n",
        "g.add((artifact2, RDF.type, CRM[\"E22_Man-Made_Object\"]))\n",
        "g.add((artifact2, DC.title, Literal(\"Greek amphora\")))\n",
        "g.add((artifact2, DC.creator, EX.artist002))\n",
        "g.add((artifact2, EX.random_useless_predicate, EX.random_useless_object))"
      ],
      "metadata": {
        "id": "aS2zAnfmx1MV"
      },
      "execution_count": null,
      "outputs": []
    },
    {
      "cell_type": "markdown",
      "source": [
        "### print the graph\n",
        "\n",
        "You can use .serialize (more on this later) + print to print the graph"
      ],
      "metadata": {
        "id": "Dc2ixkEX1dLX"
      }
    },
    {
      "cell_type": "code",
      "source": [
        "print(g.serialize(format=\"ttl\"))"
      ],
      "metadata": {
        "id": "4yszh69j09Ns"
      },
      "execution_count": null,
      "outputs": []
    },
    {
      "cell_type": "markdown",
      "source": [
        "### Removing Triples with .remove()\n",
        "\n",
        "Deletes all triples that match `(s, p, o)`. You can use `None` to wildcard."
      ],
      "metadata": {
        "id": "3QuBp4-y1K1_"
      }
    },
    {
      "cell_type": "code",
      "source": [
        "# Remove the triples with useless predicates\n",
        "\n",
        "g.remove((None, EX.random_useless_predicate, None))"
      ],
      "metadata": {
        "id": "yOlG7I5v1TKX"
      },
      "execution_count": null,
      "outputs": []
    },
    {
      "cell_type": "code",
      "source": [
        "print(g.serialize(format=\"ttl\"))"
      ],
      "metadata": {
        "id": "SjSAS5ZU1qiw"
      },
      "execution_count": null,
      "outputs": []
    },
    {
      "cell_type": "markdown",
      "source": [
        "### Serializing with .serialize()\n",
        "\n",
        "You can specify a destination (path - only filename if you want the file to be saved in the same folder as this jupyter notebook) as a parameter if you want to save the file instead of printing it.\n",
        "\n",
        "Outputs the RDF in your chosen format.\n",
        "Options include:\n",
        "- `\"turtle\"`\n",
        "- `\"xml\"`\n",
        "- `\"nt\"` (N-Triples)\n",
        "- `\"json-ld\"`\n"
      ],
      "metadata": {
        "id": "N__OrhGC1033"
      }
    },
    {
      "cell_type": "code",
      "source": [
        "g.serialize(destination=\"example_new.ttl\", format=\"turtle\")"
      ],
      "metadata": {
        "id": "5Jy5RpOZ1_Kr"
      },
      "execution_count": null,
      "outputs": []
    },
    {
      "cell_type": "code",
      "source": [],
      "metadata": {
        "id": "rjr5ADcq2OCb"
      },
      "execution_count": null,
      "outputs": []
    },
    {
      "cell_type": "markdown",
      "source": [
        "### Graph() + Graph()\n",
        "\n",
        "The `+` operator in RDFLib **merges** two graphs into a new graph.\n",
        "\n",
        "It returns a third graph containing all triples from both.\n",
        "\n",
        "The original graphs remain unchanged."
      ],
      "metadata": {
        "id": "DYxSUgBu2Z7f"
      }
    },
    {
      "cell_type": "code",
      "source": [
        "turtle_data_2 = \"\"\"\n",
        "@prefix ex: <http://example.org/> .\n",
        "@prefix crm: <http://www.cidoc-crm.org/cidoc-crm/> .\n",
        "@prefix dc: <http://purl.org/dc/elements/1.1/> .\n",
        "@prefix rdfs: <http://www.w3.org/2000/01/rdf-schema#> .\n",
        "\n",
        "ex:artifact003 a crm:E22_Man-Made_Object ;\n",
        "    dc:title \"Medieval chalice\" ;\n",
        "    dc:creator ex:artist003 ;\n",
        "    crm:P55_has_current_location ex:museum002 .\n",
        "\n",
        "ex:artist003 a crm:E21_Person ;\n",
        "    rdfs:label \"Anonymous goldsmith\" .\n",
        "\n",
        "ex:museum002 a crm:E53_Place ;\n",
        "    rdfs:label \"Cathedral Treasury of Siena\" .\n",
        "\"\"\"\n",
        "\n",
        "g2 = Graph()\n",
        "g2.parse(data=turtle_data_2, format=\"turtle\")\n",
        "\n",
        "# Bind namespaces again (good practice)\n",
        "g2.bind(\"ex\", EX)\n",
        "g2.bind(\"crm\", CRM)\n",
        "g2.bind(\"dc\", DC)\n",
        "\n",
        "# Combine the two graphs\n",
        "g_combined = g + g2\n",
        "\n",
        "print(f\"Graph 1: {len(g)} triples\")\n",
        "print(f\"Graph 2: {len(g2)} triples\")\n",
        "print(f\"Combined: {len(g_combined)} triples\")"
      ],
      "metadata": {
        "id": "isdGKcwa2jeS"
      },
      "execution_count": null,
      "outputs": []
    },
    {
      "cell_type": "code",
      "source": [],
      "metadata": {
        "id": "aszrHG8_2u7B"
      },
      "execution_count": null,
      "outputs": []
    },
    {
      "cell_type": "markdown",
      "source": [
        "> **Exercise 1: Create a new RDF graph for a cultural heritage artifact**\n",
        "\n",
        "Create a new `Graph` in RDFLib and describe a **tapestry** from the 16th century using the same structure as the examples you’ve seen.\n",
        "\n",
        "### Follow these exact instructions:\n",
        "\n",
        "1. **Artifact**\n",
        "   - URI: `ex:artifact004`\n",
        "   - Type: `crm:E22_Man-Made_Object`\n",
        "   - Title: `\"Renaissance tapestry\"` (use `dc:title`)\n",
        "   - Creator: `ex:artist004` (use `dc:creator`)\n",
        "   - Location: `ex:museum003` (use `crm:P55_has_current_location`)\n",
        "\n",
        "2. **Artist**\n",
        "   - URI: `ex:artist004`\n",
        "   - Type: `crm:E21_Person`\n",
        "   - Label: `\"Flemish workshop\"` (use `rdfs:label`)\n",
        "\n",
        "3. **Museum**\n",
        "   - URI: `ex:museum003`\n",
        "   - Type: `crm:E53_Place`\n",
        "   - Label: `\"Royal Palace of Madrid\"` (use `rdfs:label`)\n",
        "\n",
        "### Additional requirements:\n",
        "\n",
        "- Bind the following namespaces:\n",
        "  - `ex` → `http://example.org/`\n",
        "  - `crm` → `http://www.cidoc-crm.org/cidoc-crm/`\n",
        "  - `dc` → `http://purl.org/dc/elements/1.1/`\n",
        "- Use `Literal(...)` for strings\n",
        "- Use square brackets (`[...]`) for accessing `CRM` terms that might be problematic (e.g., `CRM[\"E22_Man-Made_Object\"]`)\n",
        "\n",
        "Serialize the graph in the end by printing it.\n",
        "\n",
        "\n",
        "<details><summary>Solution</summary>\n",
        "<pre>\n",
        "from rdflib import Graph, Literal, Namespace\n",
        "from rdflib.namespace import RDF, RDFS\n",
        "\n",
        "EX = Namespace(\"http://w3id.org/example/\")\n",
        "CRM = Namespace(\"http://www.cidoc-crm.org/cidoc-crm/\")\n",
        "DC = Namespace(\"http://purl.org/dc/elements/1.1/\")\n",
        "\n",
        "g3 = Graph()\n",
        "g3.bind(\"ex\", EX)\n",
        "g3.bind(\"crm\", CRM)\n",
        "g3.bind(\"dc\", DC)\n",
        "\n",
        "artifact = EX[\"artifact004\"]\n",
        "g3.add((artifact, RDF.type, CRM[\"E22_Man-Made_Object\"]))\n",
        "g3.add((artifact, DC.title, Literal(\"Renaissance tapestry\")))\n",
        "g3.add((artifact, DC.creator, EX[\"artist004\"]))\n",
        "g3.add((artifact, CRM[\"P55_has_current_location\"], EX[\"museum003\"]))\n",
        "\n",
        "g3.add((EX[\"artist004\"], RDF.type, CRM[\"E21_Person\"]))\n",
        "g3.add((EX[\"artist004\"], RDFS.label, Literal(\"Flemish workshop\")))\n",
        "\n",
        "g3.add((EX[\"museum003\"], RDF.type, CRM[\"E53_Place\"]))\n",
        "g3.add((EX[\"museum003\"], RDFS.label, Literal(\"Royal Palace of Madrid\")))\n",
        "\n",
        "print(g3.serialize(format=\"turtle\"))\n",
        "</pre><details>\n"
      ],
      "metadata": {
        "id": "vJQWq3lT3Jkx"
      }
    },
    {
      "cell_type": "markdown",
      "source": [
        "> **Exercise 2: Combine your graph with the others**\n",
        "\n",
        "Now that you've created a new RDF graph describing `artifact004`, you will combine it with the existing graphs from the class.\n",
        "\n",
        "You should already have:\n",
        "\n",
        "- `g` → first graph with artifact001 and artist001\n",
        "- `g2` → second graph with artifact003 and artist003\n",
        "- `g3` → your new graph with artifact004 and artist004\n",
        "\n",
        "### Task:\n",
        "\n",
        "1. Create a new graph called `g_combined_all` by combining `g`, `g2`, and `g3` using the `+` operator\n",
        "2. Print how many triples are in the resulting graph\n",
        "3. Use `.serialize()` to preview the result in Turtle format\n",
        "\n",
        "\n",
        "<details><summary>Solution</summary><pre>\n",
        "g_combined_all = g + g2 + g3\n",
        "print(g_combined_all.serialize(format=\"turtle\"))\n",
        "</pre></details>"
      ],
      "metadata": {
        "id": "PZ78U1yf376z"
      }
    },
    {
      "cell_type": "markdown",
      "source": [
        "### Exercise 3 (at home)\n",
        "\n",
        "You will now explore the contents of the `g_combined_all` graph and retrieve relationships between **museums** and **artifacts**.\n",
        "\n",
        "### Task:\n",
        "\n",
        "1. Iterate over all subjects of type `crm:E53_Place` (i.e., all museums)\n",
        "2. For each museum:\n",
        "   - Get its label using `rdfs:label`\n",
        "   - Find all artifacts (`crm:E22_Man-Made_Object`) that are located there (use `crm:P55_has_current_location`)\n",
        "   - Print the title of each artifact (use `dc:title`)\n",
        "\n",
        "### Expected Output:\n",
        "A list of museums and the artifacts currently located in each.\n",
        "\n",
        "<details><summary>Solution</summary><pre>\n",
        "for museum in g_combined_all.subjects(RDF.type, CRM[\"E53_Place\"]):\n",
        "    for label in g_combined_all.objects(museum, RDFS.label):\n",
        "        print(f\"\\nMuseum: {label}\")\n",
        "    for artifact in g_combined_all.subjects(CRM[\"P55_has_current_location\"], museum):\n",
        "        for title in g_combined_all.objects(artifact, DC.title):\n",
        "            print(f\"  - {title}\")</pre>"
      ],
      "metadata": {
        "id": "folDiyEz4zu1"
      }
    },
    {
      "cell_type": "code",
      "source": [],
      "metadata": {
        "id": "9VmHddT-4jGr"
      },
      "execution_count": null,
      "outputs": []
    }
  ]
}